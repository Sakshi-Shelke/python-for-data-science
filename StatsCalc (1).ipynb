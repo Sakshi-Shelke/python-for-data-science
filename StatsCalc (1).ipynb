{
 "cells": [
  {
   "cell_type": "code",
   "execution_count": 47,
   "id": "03092717-fc25-4a32-9beb-96f0a7fc8cfb",
   "metadata": {},
   "outputs": [],
   "source": [
    "import math"
   ]
  },
  {
   "cell_type": "code",
   "execution_count": 90,
   "id": "73ad89de-9f79-4018-94ad-e499fc4454ae",
   "metadata": {},
   "outputs": [],
   "source": [
    "class Statistics:\n",
    "    def __init__(self, x, y):\n",
    "        self.x = x\n",
    "        self.y = y\n",
    "\n",
    "    def mean_x(self):\n",
    "        mean_x = sum(self.x) / len(self.x)\n",
    "        return mean_x\n",
    "        \n",
    "    def mean_y(self):\n",
    "        mean_y = sum(self.y) / len(self.y)\n",
    "        return mean_y\n",
    "\n",
    "    def std_dev_x(self):\n",
    "        smx = sum(self.x) / len(self.x)\n",
    "        x_minus_mean_sqr = [(i - smx) ** 2 for i in (self.x)]\n",
    "        variance_x = sum(x_minus_mean_sqr) / len(self.x)\n",
    "        return math.sqrt(variance_x)\n",
    "        \n",
    "    def std_dev_y(self):\n",
    "        smy = sum(self.y) / len(self.y)\n",
    "        y_minus_mean_sqr = [(i - smy) ** 2 for i in (self.y)]\n",
    "        variance_y = sum(y_minus_mean_sqr) / len(self.y)\n",
    "        return math.sqrt(variance_y)\n",
    "\n",
    "    def covariance(self):\n",
    "        if len(self.x) != len(self.y):\n",
    "            raise ValueError(\"x and y must have the same length\")\n",
    "        cmx = sum(self.x) / len(self.x)\n",
    "        cmy = sum(self.y) / len(self.y)\n",
    "        x_minus_mean = [(i - cmx) for i in (self.x)]\n",
    "        y_minus_mean = [(i - cmy) for i in (self.y)]\n",
    "        summation = sum(x_minus_mean[i] * y_minus_mean[i] for i in range(len(self.x))) \n",
    "        cov = summation / len(self.x)\n",
    "        return cov\n",
    "\n",
    "    def correlation(self):\n",
    "        cov = self.covariance()\n",
    "        std_dev_x = self.std_dev_x()\n",
    "        std_dev_y = self.std_dev_y()\n",
    "        return cov / (std_dev_x * std_dev_y)\n",
    "\n",
    "    def correlation_type(self):\n",
    "        corr = self.correlation()\n",
    "        if corr > 0:\n",
    "            return \"Positive Correlation\"\n",
    "        elif corr < 0:\n",
    "            return \"Negative Correlation\"\n",
    "        else:\n",
    "            return \"No Correlation\""
   ]
  },
  {
   "cell_type": "code",
   "execution_count": 102,
   "id": "143dfc5b-e9ba-43b8-b23c-c5e56cb16234",
   "metadata": {},
   "outputs": [],
   "source": [
    "def menu():\n",
    "\n",
    "    while True:\n",
    "        print(\"Welcome to the Statistics Calculator\")\n",
    "        print(\"1. Enter Data to Calculate: Mean, Standard deviation of x and y, Covariance, Correlation coefficient, Type of correlation\")\n",
    "        print(\"2. Exit\")\n",
    "        \n",
    "        choice = input(\"Enter your choice: \")\n",
    "\n",
    "        if choice == '1':\n",
    "            x = list(map(float, input(\"Enter values for x (comma-separated): \").split(',')))\n",
    "            y = list(map(float, input(\"Enter values for y (comma-separated): \").split(',')))\n",
    "            stats = Statistics(x, y)\n",
    "            mx = stats.mean_x()\n",
    "            my = stats.mean_y()\n",
    "            print(f\"Mean of X data is: {mx}\")\n",
    "            print(f\"Mean of Y data is: {my}\")\n",
    "            std_x = stats.std_dev_x()\n",
    "            std_y = stats.std_dev_y()\n",
    "            print(f\"Standard Deviation of x: {std_x}\")\n",
    "            print(f\"Standard Deviation of y: {std_y}\")\n",
    "            cov = stats.covariance()\n",
    "            print(f\"Covariance: {cov}\")\n",
    "            corr = stats.correlation()\n",
    "            print(f\"Correlation Coefficient: {corr}\")\n",
    "            corr_type = stats.correlation_type()\n",
    "            print(f\"Type of Correlation: {corr_type}\")\n",
    "        elif choice == '2':\n",
    "            print(\"Thank you! Byee\")\n",
    "            break\n",
    "        else:\n",
    "            print(\"Invalid choice. Please try again.\")"
   ]
  },
  {
   "cell_type": "code",
   "execution_count": 103,
   "id": "998bca48-19dc-4d1e-8840-fd2f6e021f75",
   "metadata": {},
   "outputs": [
    {
     "name": "stdout",
     "output_type": "stream",
     "text": [
      "Welcome to the Statistics Calculator\n",
      "1. Enter Data to Calculate: Mean, Standard deviation of x and y, Covariance, Correlation coefficient, Type of correlation\n",
      "2. Exit\n"
     ]
    },
    {
     "name": "stdin",
     "output_type": "stream",
     "text": [
      "Enter your choice:  2\n"
     ]
    },
    {
     "name": "stdout",
     "output_type": "stream",
     "text": [
      "Thank you! Byee\n"
     ]
    }
   ],
   "source": [
    "menu()"
   ]
  },
  {
   "cell_type": "code",
   "execution_count": null,
   "id": "fb79a553-e952-460a-9fb4-aa25201c1e0a",
   "metadata": {},
   "outputs": [],
   "source": []
  }
 ],
 "metadata": {
  "kernelspec": {
   "display_name": "Python 3 (ipykernel)",
   "language": "python",
   "name": "python3"
  },
  "language_info": {
   "codemirror_mode": {
    "name": "ipython",
    "version": 3
   },
   "file_extension": ".py",
   "mimetype": "text/x-python",
   "name": "python",
   "nbconvert_exporter": "python",
   "pygments_lexer": "ipython3",
   "version": "3.13.1"
  }
 },
 "nbformat": 4,
 "nbformat_minor": 5
}
