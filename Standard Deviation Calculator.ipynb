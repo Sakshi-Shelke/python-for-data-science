{
 "cells": [
  {
   "cell_type": "markdown",
   "id": "8f78e9a0-4f38-4047-b681-e62a3d944aef",
   "metadata": {},
   "source": [
    "# Standard Deviation Calculator \n",
    "                                                                                                                - by Sakshi Shelke\n",
    "- Variance shows the \"squared\" spread of data.\n",
    "- Standard deviation translates this spread into the original data's units for easier interpretation."
   ]
  },
  {
   "cell_type": "code",
   "execution_count": 95,
   "id": "ab37b919-333e-4327-8239-390eda342035",
   "metadata": {},
   "outputs": [],
   "source": [
    "import math"
   ]
  },
  {
   "cell_type": "code",
   "execution_count": 97,
   "id": "55c472f7-3e2e-46c5-95ed-5702d385c76a",
   "metadata": {},
   "outputs": [
    {
     "name": "stdin",
     "output_type": "stream",
     "text": [
      "Enter the data (separated by spaces):  10 20\n"
     ]
    },
    {
     "name": "stdout",
     "output_type": "stream",
     "text": [
      "The Standard deviation is: 5.00\n",
      "The Variance is: 25.00\n"
     ]
    }
   ],
   "source": [
    "# Input: population data\n",
    "data = list(map(float, input(\"Enter the data (separated by spaces): \").split())) # Input Population Data\n",
    "n = len(data)                                                                    # length of data\n",
    "mean = sum(data)/n                                                               # Compute mean\n",
    "x_minus_mean_sqr = [(i-mean)**2 for i in (data)]                                 # Compute Squared Deviations\n",
    "variance = sum(x_minus_mean_sqr)/n                                               # Calculate Variance\n",
    "# Calculate and display the standard deviation\n",
    "std_dev = math.sqrt(variance)                                                    # Calculate Standard Deviation\n",
    "print(f\"The Standard deviation is: {std_dev:.2f}\")                               # Output Results\n",
    "print(f\"The Variance is: {variance:.2f}\") # gives variance"
   ]
  },
  {
   "cell_type": "markdown",
   "id": "c2bbf458-c4bc-4f12-b523-92a6183f8988",
   "metadata": {},
   "source": [
    "#### Input Population Data\n",
    "- data = list(map(float, input(\"Enter the data (separated by spaces): \").split()))\n",
    "   - Prompts the user to enter space-separated numeric values.\n",
    "   - Converts the input into a list of floating-point numbers using `map` and 'list'.\n",
    "#### Compute Mean\n",
    "- mean = sum(data)/n\n",
    "    - Calculates the mean by summing all data points and dividing by n (number of data points).\n",
    "#### Compute Squared Deviations\n",
    "- x_minus_mean_sqr = [(i-mean)**2 for i in (data)]\n",
    "    - For each data point x, computes the squared deviation from the mean: (x-mean)^2).\n",
    "    - Stores these squared deviations in a list.\n",
    "#### Calculate Variance:\n",
    "- variance = sum(x_minus_mean_sqr)/n\n",
    "    - Computes the variance by taking the average of all squared deviations.\n",
    "#### Calculate Standard Deviation:\n",
    "- std_dev = math.sqrt(variance)\n",
    "    - Calculates the standard deviation by taking the square root of the variance.\n",
    "#### Output Results:\n",
    "- print(f\"The Standard deviation is: {std_dev:.2f}\")\n",
    "- print(f\"The Variance is: {var:.2f}\")\n",
    "    - Prints the calculated standard deviation and variance rounded to 2 decimal places."
   ]
  },
  {
   "cell_type": "code",
   "execution_count": null,
   "id": "99875da5-9832-497e-9dc8-12e414ad5c03",
   "metadata": {},
   "outputs": [],
   "source": []
  }
 ],
 "metadata": {
  "kernelspec": {
   "display_name": "Python 3 (ipykernel)",
   "language": "python",
   "name": "python3"
  },
  "language_info": {
   "codemirror_mode": {
    "name": "ipython",
    "version": 3
   },
   "file_extension": ".py",
   "mimetype": "text/x-python",
   "name": "python",
   "nbconvert_exporter": "python",
   "pygments_lexer": "ipython3",
   "version": "3.13.1"
  }
 },
 "nbformat": 4,
 "nbformat_minor": 5
}
