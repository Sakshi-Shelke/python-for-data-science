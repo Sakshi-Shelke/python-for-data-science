{
 "cells": [
  {
   "cell_type": "markdown",
   "id": "5489d687-4aef-492c-a694-cc265295454c",
   "metadata": {},
   "source": [
    "# Caesar Cipher\n",
    "                                                                                                        - By Sakshi Shelke\n",
    "## Introduction\n",
    "- Cipher Text: It is the encoded text that is a result of encryption which is not understandable in normal scenarios.\n",
    "- Plain Text: It is the Normal text or decoded text that is understandable in normal scenarios.\n",
    "- Ciphering/Encryption: Ciphering is a process of Encrypting or encoding a Plain text into Cipher text using a key value.(It is like Locking a lock.)\n",
    "- Deciphering/Decryption: Deciphering is a process of decrypting or decoding Cipher text using key value.(It is like Unlocking a lock.)\n",
    "- Key: It is the value which is used to encrypt and decrypt the text.(Key of Lock)\n",
    "- Caesar Cipher: In Caesar cipher the alphabet after 'key' number of shifts(in forward direction) is substituted in the place of Plain text's place to encrypt the Plain text, the same is done while decrypting the Cipher Text.The Key values that are assigned for 'A to Z' as '0-25',i.e., Modulo of 26 for 26 letters of alphabet. \n",
    "##### Example:\n",
    "- For Ciphering Plain text 'Hi' with shift key of '2' the shifted Cipher text will be interpreted with the formula: En(x)=(x+n)mod26 ; 'x' represents the letter's value, and 'n' represents the shift or key-value.The Cipher text Produced is: Jk.\n",
    "- For Deciphering Cipher text 'Jk' with shift key of '2' the shifted Plain text will be interpreted with the formula: Dn(x)=(x-n)mod26 ; 'x' represents the letter's value, and 'n' represents the shift or key-value.The Plain text Produced is: Hi."
   ]
  },
  {
   "cell_type": "markdown",
   "id": "2728243e-87ef-433b-85f1-a1bb086d05bb",
   "metadata": {},
   "source": [
    "## Problem Statement\n",
    "- The task is to implement a Caesar Cipher encryption and decryption system.\n",
    "- The program should allow a user to encode and decode text based on a provided key.\n",
    "- The Caesar Cipher shifts letters by a fixed number (the key) in the alphabet.\n",
    "- The system should allow input of text, a key for shifting, and output the encoded or decoded text accordingly."
   ]
  },
  {
   "cell_type": "code",
   "execution_count": 1,
   "id": "da02ac94-9960-4fc1-91e3-03f512105044",
   "metadata": {},
   "outputs": [],
   "source": [
    "import string # Includes functions for string module that gives the substitution index(shift)"
   ]
  },
  {
   "cell_type": "markdown",
   "id": "1d711095-7a1c-4fa5-bb0f-40e9d2c1c36c",
   "metadata": {},
   "source": [
    "The `string` library is imported to easily access predefined sequences of characters, specifically `string.ascii_uppercase` and `string.ascii_lowercase`. These provide strings containing all uppercase and lowercase letters of the alphabet, which are used in the Caesar Cipher to identify and manipulate letters efficiently during encoding and decoding."
   ]
  },
  {
   "cell_type": "code",
   "execution_count": 2,
   "id": "58baadda-d113-46a1-a5b8-03d4dbc22a35",
   "metadata": {},
   "outputs": [],
   "source": [
    "def encode_caesar_cipher(text, key):\n",
    "    result = '' # Result to be calculated as Following\n",
    "    uppercase = string.ascii_uppercase  # \"ABCDEFGHIJKLMNOPQRSTUVWXYZ\" # string.ascii_uppercase and string.ascii_lowercase provide strings \n",
    "                                                                       # containing all uppercase and lowercase letters of the alphabet,\n",
    "    lowercase = string.ascii_lowercase  # \"abcdefghijklmnopqrstuvwxyz\" # which are used in the Caesar Cipher to identify and \n",
    "                                                                       # manipulate letters efficiently during encoding and decoding.\n",
    "    for i in text: # Iterating through every alphabet\n",
    "        if i in uppercase:  # Checks if it's an uppercase letter\n",
    "            index = (uppercase.index(i) + key) % 26 # Encoding Formula \n",
    "            result += uppercase[index] # Move Forward to next alphabet\n",
    "        elif i in lowercase:  # Checks if it's a lowercase letter\n",
    "            index = (lowercase.index(i) + key) % 26 # Encoding Formula \n",
    "            result += lowercase[index] # Move Forward to next alphabet\n",
    "        else:  # Non-alphabetic characters remain unchanged\n",
    "            result += i # Return Non-alphabetic characters as is\n",
    "    return result"
   ]
  },
  {
   "cell_type": "markdown",
   "id": "e1d2f07a-381b-444d-bc35-95388a6440c9",
   "metadata": {},
   "source": [
    "#### encode_caesar_cipher(text, key):\n",
    "- The function takes two parameters: the text to encode and the key (shift value).\n",
    "- It iterates through each character in the text. If the character is an uppercase letter, it shifts it forward by the key in the alphabet, using modular arithmetic to wrap around if necessary. The same is done for lowercase letters.\n",
    "- Non-alphabet characters (like spaces or punctuation) remain unchanged.\n",
    "- The encoded text is returned."
   ]
  },
  {
   "cell_type": "code",
   "execution_count": 3,
   "id": "553d18aa-522d-46f1-a071-d9af55f9ee0a",
   "metadata": {},
   "outputs": [],
   "source": [
    "def decode_caesar_cipher(text, key):\n",
    "    result = '' # Result to be calculated as Following\n",
    "    uppercase = string.ascii_uppercase  # \"ABCDEFGHIJKLMNOPQRSTUVWXYZ\" # string.ascii_uppercase and string.ascii_lowercase provide strings\n",
    "                                                                       # containing all uppercase and lowercase letters of the alphabet,\n",
    "    lowercase = string.ascii_lowercase  # \"abcdefghijklmnopqrstuvwxyz\" # which are used in the Caesar Cipher to identify and\n",
    "                                                                       # manipulate letters efficiently during encoding and decoding.\n",
    "    for i in text: # Iterating through every alphabet\n",
    "        if i in uppercase:  # Check if it's an uppercase letter\n",
    "            index = (uppercase.index(i) - key) % 26 # Decoding Formula \n",
    "            result += uppercase[index] # Move Forward to next alphabet\n",
    "        elif i in lowercase:  # Check if it's a lowercase letter\n",
    "            index = (lowercase.index(i) - key) % 26 # Decoding Formula \n",
    "            result += lowercase[index] # Move Forward to next alphabet\n",
    "        else:  # Non-alphabetic characters remain unchanged\n",
    "            result += i # Return Non-alphabetic characters as is\n",
    "    return result "
   ]
  },
  {
   "cell_type": "markdown",
   "id": "b7942546-9fd2-429f-aa08-d7e97b340eca",
   "metadata": {},
   "source": [
    "#### decode_caesar_cipher(text, key):\n",
    "- This function also takes the text to decode and the key.\n",
    "- It iterates through the text and shifts each character backward by the key in the alphabet. Uppercase and lowercase letters are handled similarly to the encoding function.\n",
    "- Non-alphabet characters remain unchanged.\n",
    "- The decoded text is returned.\n"
   ]
  },
  {
   "cell_type": "code",
   "execution_count": 4,
   "id": "45432a53-9649-444f-af51-88b4c02ea5e7",
   "metadata": {},
   "outputs": [],
   "source": [
    "def main_menu(): # Function for Main Menuuuuuuu\n",
    "    while True: # While loop for Looping \n",
    "        print(\"\\n-----------Caesar Cipher Menu-----------\") # Game Name\n",
    "        print(\"1. Encode Plain Text\") # For Encryption\n",
    "        print(\"2. Decode Cipher Text\") # For Decryption\n",
    "        print(\"3. Exit\") # For Stopping loop\n",
    "\n",
    "        choice = input(\"Enter choice (1/2/3): \") # Choice selection\n",
    "\n",
    "        if choice == '1': # Returns to Encoding Function to execute encode block of code\n",
    "            text = input(\"Enter Plain text to encode: \") # takes input text for ciphering\n",
    "            key = int(input(\"Enter the key: \")) # takes key input(shift valuee)\n",
    "            cipher_text = encode_caesar_cipher(text, key) # Gives input to the Encode Function\n",
    "            print(\"Cipher text: \", cipher_text) # Prints Cipher Text\n",
    "        elif choice == '2': # Returns to Decoding Function to execute decode block of code\n",
    "            text = input(\"Enter Cipher Text to decode: \")# takes input text for deciphering\n",
    "            key = int(input(\"Enter the key: \")) # takes key input(shift valuee)\n",
    "            plain_text = decode_caesar_cipher(text, key) # Gives input to the Decode Function\n",
    "            print(\"Decoded: \", plain_text) # Prints Plain Text\n",
    "        elif choice == '3': # Exits the program\n",
    "            print(\"Thank you for playing!!\") # Thank you Message\n",
    "            break # Break loop\n",
    "        else:\n",
    "            print(\"Invalid Input. Please try again.\") # If invalid input is entered in the choice selection input section"
   ]
  },
  {
   "cell_type": "markdown",
   "id": "3531ebff-2bf1-4cb3-a805-7a390faf2be9",
   "metadata": {},
   "source": [
    "#### main_menu():\n",
    "- The main function repeatedly presents a menu to the user, offering options to encode, decode, or exit the program.\n",
    "- If the user chooses to encode, it prompts for the plain text and key, then calls encode_caesar_cipher() to produce and print the cipher text.\n",
    "- If the user chooses to decode, it asks for the cipher text and key, then calls decode_caesar_cipher() to decode the text and print the result.\n",
    "- If the user chooses to exit, the program thanks the user and ends. If an invalid input is provided, it asks the user to try again."
   ]
  },
  {
   "cell_type": "markdown",
   "id": "c226a66e-aff5-4ab5-90cd-16ada0cd7753",
   "metadata": {},
   "source": [
    "#### Execution:\n",
    "- The program runs the main_menu() function to interact with the user, offering the ability to either encode or decode a message based on a Caesar Cipher with a specified key."
   ]
  },
  {
   "cell_type": "code",
   "execution_count": 5,
   "id": "5693e674-d743-4a1d-82ac-74cb6f58a0be",
   "metadata": {},
   "outputs": [
    {
     "name": "stdout",
     "output_type": "stream",
     "text": [
      "\n",
      "-----------Caesar Cipher Menu-----------\n",
      "1. Encode Plain Text\n",
      "2. Decode Cipher Text\n",
      "3. Exit\n"
     ]
    },
    {
     "name": "stdin",
     "output_type": "stream",
     "text": [
      "Enter choice (1/2/3):  3\n"
     ]
    },
    {
     "name": "stdout",
     "output_type": "stream",
     "text": [
      "Thank you for playing!!\n"
     ]
    }
   ],
   "source": [
    "# Run the program\n",
    "main_menu()"
   ]
  },
  {
   "cell_type": "code",
   "execution_count": null,
   "id": "a7f7127b-11e2-427c-8614-260b41e58b47",
   "metadata": {},
   "outputs": [],
   "source": []
  }
 ],
 "metadata": {
  "kernelspec": {
   "display_name": "Python 3 (ipykernel)",
   "language": "python",
   "name": "python3"
  },
  "language_info": {
   "codemirror_mode": {
    "name": "ipython",
    "version": 3
   },
   "file_extension": ".py",
   "mimetype": "text/x-python",
   "name": "python",
   "nbconvert_exporter": "python",
   "pygments_lexer": "ipython3",
   "version": "3.13.1"
  }
 },
 "nbformat": 4,
 "nbformat_minor": 5
}
