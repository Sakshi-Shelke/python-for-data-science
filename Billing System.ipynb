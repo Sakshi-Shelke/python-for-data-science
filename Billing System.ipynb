{
 "cells": [
  {
   "cell_type": "markdown",
   "id": "2ae7ab62-c47d-499b-b06d-abd26be3f88b",
   "metadata": {},
   "source": [
    "# Billing System \n",
    "                                                                                                                - by Sakshi Shelke\n",
    "- It is a simple biling system that calculates bill as it iterates forward with the user input.\n",
    "- The code also has discount System for when the bill exceeds certain amount."
   ]
  },
  {
   "cell_type": "markdown",
   "id": "4218796b-32b0-4660-9aa5-2fc38f2d9579",
   "metadata": {},
   "source": [
    "- This Python program implements a shopping menu that allows users to add items (Bag, Watch, or Belt) to their cart and calculate the total bill.\n",
    "- Key features include:\n",
    "    - Menu Display: Shows available products with their prices.\n",
    "    - User Interaction: Users choose items and specify quantities.\n",
    "    - Discount Feature: A 10% discount is applied if the total bill exceeds ₹7000.\n",
    "    - Bill Calculation: Calculates and displays the final amount with or without the discount.\n",
    "- The program continuously accepts user inputs until the \"Give Bill\" option (4) is selected. It ensures a dynamic and interactive shopping experience."
   ]
  },
  {
   "cell_type": "code",
   "execution_count": 8,
   "id": "47284f9f-761d-4205-b02d-4b700cb1d59a",
   "metadata": {},
   "outputs": [
    {
     "name": "stdout",
     "output_type": "stream",
     "text": [
      "                            \n",
      "--------Shopping Menu--------\n",
      "1. Add Bag : price --> 5000\n",
      "2. Add Watch : price --> 2000\n",
      "3. Add Belt : price --> 1000\n",
      "4. Give Bill\n",
      "\n"
     ]
    },
    {
     "name": "stdin",
     "output_type": "stream",
     "text": [
      "Choose options: 4\n"
     ]
    },
    {
     "name": "stdout",
     "output_type": "stream",
     "text": [
      "Thank You for Shopping with us!!\n",
      "Your bill amount is : 0\n"
     ]
    }
   ],
   "source": [
    "# product prices\n",
    "bag_price = 5000\n",
    "watch_price = 2000\n",
    "belt_price = 1000\n",
    "print(\"\"\"                            \n",
    "--------Shopping Menu--------\n",
    "1. Add Bag : price --> 5000\n",
    "2. Add Watch : price --> 2000\n",
    "3. Add Belt : price --> 1000\n",
    "4. Give Bill\n",
    "\"\"\") # Shopping Menu options\n",
    "bill = 0 # Bill calculation\n",
    "while True:\n",
    "    choice = int(input(\"Choose options:\")) # input from user\n",
    "    if choice == 1: \n",
    "        quantity = int(input(\"Enter Quantity:\")) # user input for quantity\n",
    "        bill += (bag_price*quantity) # computes bill by price multiplied by quantity \n",
    "        print(\"Bag: Added to cart!!\")\n",
    "    elif choice == 2: \n",
    "        quantity = int(input(\"Enter Quantity:\")) # user input for quantity\n",
    "        bill += (watch_price*quantity) # computes bill by price multiplied by quantity\n",
    "        print(\"Watch: Added to cart!!\")\n",
    "    elif choice == 3:\n",
    "        quantity = int(input(\"Enter Quantity:\")) # user input for quantity\n",
    "        bill += (belt_price*quantity) # computes bill by price multiplied by quantity\n",
    "        print(\"Belt: Added to cart!!\")\n",
    "    elif choice == 4:\n",
    "        print(\"Thank You for Shopping with us!!\") # Thank you message\n",
    "        break\n",
    "    else:\n",
    "        print(\"Please enter valid input.\") # Invalid input message\n",
    "if bill > 7000:\n",
    "    print(f\"Your Total Bill with 10% Discount is: {bill - (bill*0.10)}\") # 10% discount for bill amount over 7000\n",
    "else:\n",
    "    print(f\"Your bill amount is : {bill}\") # calculated billl"
   ]
  },
  {
   "cell_type": "code",
   "execution_count": null,
   "id": "37e2d520-b544-4676-af74-dcdb62458158",
   "metadata": {},
   "outputs": [],
   "source": []
  }
 ],
 "metadata": {
  "kernelspec": {
   "display_name": "Python 3 (ipykernel)",
   "language": "python",
   "name": "python3"
  },
  "language_info": {
   "codemirror_mode": {
    "name": "ipython",
    "version": 3
   },
   "file_extension": ".py",
   "mimetype": "text/x-python",
   "name": "python",
   "nbconvert_exporter": "python",
   "pygments_lexer": "ipython3",
   "version": "3.13.1"
  }
 },
 "nbformat": 4,
 "nbformat_minor": 5
}
