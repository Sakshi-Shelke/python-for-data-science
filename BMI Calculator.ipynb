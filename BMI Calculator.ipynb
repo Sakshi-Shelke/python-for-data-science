{
 "cells": [
  {
   "cell_type": "markdown",
   "id": "b5de865d-15dd-4f0b-8557-78d74d4a9690",
   "metadata": {},
   "source": [
    "# BMI (Body Mass Index) \n",
    "                                                                                                                - by Sakshi Shelke\n",
    "- BMI is a measure used to assess whether a person has a healthy body weight relative to their height. It is a simple calculation based on an individual's weight and height. BMI is widely used as a screening tool to categorize individuals into different weight status categories.\n",
    "\n",
    "### Formula for BMI:\n",
    "- The formula to calculate BMI is:\n",
    "- BMI = weight(kg)/height(cm)^2\n",
    "    - Where:\n",
    "     - Weightis in kilograms (kg)\n",
    "     - Height is in centimeters (m)\n",
    "### BMI Categories:\n",
    "- BMI is categorized into several ranges to help assess whether a person is underweight, of normal weight, overweight, or obese. These categories are based on the World Health Organization (WHO) guidelines:\n",
    "1. Underweight: BMI less than 18.5\n",
    "2. Normal weight: BMI between 18.5 and 24.9\n",
    "3. Overweight: BMI between 25 and 29.9\n",
    "4. Obesity: BMI 30 or higher\n",
    "\n",
    "#### Why BMI is Used:\n",
    "- Health Indicator: BMI provides a general indication of whether a person is underweight, at a healthy weight, overweight, or obese. \n",
    "- Health Risks: Extreme values of BMI (either too low or too high) can indicate potential health risks, including nutritional deficiencies (underweight) or risks of heart disease, diabetes, and other health issues (overweight/obesity).\n",
    "\n",
    "#### Limitations of BMI:\n",
    "- While BMI is a useful screening tool, it does not directly measure body fat or muscle mass, so it may not always accurately reflect a person's overall health. For example:\n",
    "    - Athletes with high muscle mass may have a higher BMI, but they may not have excess body fat.\n",
    "    - BMI does not differentiate between fat distribution, such as visceral fat (fat around organs), which can be a risk factor for diseases.\n",
    "- Despite these limitations, BMI is widely used because of its simplicity and general association with health outcomes."
   ]
  },
  {
   "cell_type": "markdown",
   "id": "406665bf-2b79-4719-acb7-e34a84cfce6e",
   "metadata": {},
   "source": [
    "#### Problem Statement\n",
    "- The program is designed to help the user calculate their Body Mass Index (BMI) based on their height and weight.\n",
    "- The user can also convert their height from feet and inches to centimeters.\n",
    "- The program provides a menu where the user can either calculate BMI, convert height to centimeters, or exit the program."
   ]
  },
  {
   "cell_type": "code",
   "execution_count": 14,
   "id": "164afde3-3b67-4120-bf82-5abfe22b76e0",
   "metadata": {},
   "outputs": [],
   "source": [
    "def bmi_calculator(height,weight):\n",
    "    try:\n",
    "        bmi = weight / ((height/100) ** 2)\n",
    "        return bmi\n",
    "    except ZeroDivisionError: # \n",
    "        return None"
   ]
  },
  {
   "cell_type": "markdown",
   "id": "5fa7fe3c-93c0-418c-91ed-7796052684f4",
   "metadata": {},
   "source": [
    "#### bmi_calculator(height, weight) Function:\n",
    "- Problem Addressed: This function calculates the BMI based on the user's weight and height.\n",
    "- Code Explanation: The formula used to calculate BMI is BMI = weight / (height in meters)^2.\n",
    "- The function takes height in centimeters and converts it to meters by dividing by 100.\n",
    "- If the height is zero (leading to a ZeroDivisionError), the function returns None to indicate an invalid input.\n",
    "- Outcome: This function provides the BMI value (or None in case of an invalid height)."
   ]
  },
  {
   "cell_type": "code",
   "execution_count": 15,
   "id": "1417f516-5f9d-4180-86e7-233dc9c111ee",
   "metadata": {},
   "outputs": [],
   "source": [
    "def bmi_category(bmi): # Determine the BMI category\n",
    "    if bmi is None:\n",
    "        return \"Invalid height. Cannot calculate BMI.\"\n",
    "    elif bmi < 18.5:\n",
    "        return \"Underweight\"\n",
    "    elif 18.5 <= bmi < 24.9:\n",
    "        return \"Normal weight\"\n",
    "    elif 25 <= bmi < 29.9:\n",
    "        return \"Overweight\"\n",
    "    else:\n",
    "        return \"Obesity\""
   ]
  },
  {
   "cell_type": "markdown",
   "id": "064ded84-194a-44e4-8ba5-70291b011ad1",
   "metadata": {},
   "source": [
    "#### bmi_category(bmi) Function:\n",
    "- Problem Addressed: This function categorizes the BMI result into different health ranges: underweight, normal weight, overweight, or obesity.\n",
    "- Code Explanation: The function takes the BMI calculated from the previous function and checks the value against standard BMI categories:\n",
    "    - BMI < 18.5: Underweight\n",
    "    - 18.5 ≤ BMI < 24.9: Normal weight\n",
    "    - 25 ≤ BMI < 29.9: Overweight\n",
    "    - BMI ≥ 30: Obesity If the BMI is None, it returns an error message indicating invalid input.\n",
    "- Outcome: This function provides the corresponding BMI category based on the BMI value."
   ]
  },
  {
   "cell_type": "code",
   "execution_count": 16,
   "id": "ae1bfd61-e097-4ba3-ae0b-1a1a33c90b70",
   "metadata": {},
   "outputs": [],
   "source": [
    "def main_menu():\n",
    "    while True:\n",
    "        print(\"-----------Welcome to the BMI Calculator-----------\")\n",
    "        print(\"1. Calculate Centimeters\")\n",
    "        print(\"2. Calculate BMI\")\n",
    "        print(\"3. Exit\")\n",
    "\n",
    "        choice = input(\"Enter your Choice(1/2/3):\")\n",
    "        \n",
    "        if choice == '1':\n",
    "            feet = int(input(\"Enter feet: \"))\n",
    "            inches = int(input(\"Enter inches: \"))\n",
    "            total_centimeters = (feet * 30.48) + (inches * 2.54)\n",
    "            print(f\"{feet} feet {inches} inches is equal to {total_centimeters} centimeters.\")\n",
    "        elif choice == '2':\n",
    "            weight = float(input(\"Enter your weight in kilograms: \"))\n",
    "            height = float(input(\"Enter your height in centimeters: \"))\n",
    "            bmi = bmi_calculator(height,weight)\n",
    "            print(f\"Your BMI is: {bmi:.2f}\")\n",
    "            print(f\"BMI Category: {bmi_category(bmi)}\")\n",
    "        elif choice == '3':\n",
    "            print(\"Thank You for Coding with us!!\")\n",
    "            break\n",
    "        else:\n",
    "            print(\"Please enter valid numbers for weight and height.\")"
   ]
  },
  {
   "cell_type": "markdown",
   "id": "760e5db5-451e-4e49-b86f-36131bc1148d",
   "metadata": {},
   "source": [
    "#### main_menu() Function:\n",
    "- Problem Addressed: This function provides an interactive user interface that allows the user to either calculate their BMI, convert height to centimeters, or exit the program.\n",
    "- Code Explanation:\n",
    "    - The program starts by printing a welcome message and options for the user:\n",
    "        - Convert feet and inches to centimeters.\n",
    "        - Calculate BMI based on weight and height.\n",
    "        - Exit the program.\n",
    "- Based on the user's choice:\n",
    "  - Option 1: Takes the user's height in feet and inches, converts it to centimeters, and prints the result.\n",
    "  - Option 2: Takes the user's weight and height in centimeters, calculates the BMI using the bmi_calculator function, and then categorizes it using the bmi_category function.\n",
    "  - Option 3: Exits the program with a thank-you message.\n",
    " - The program will continue prompting the user until they choose to exit by selecting option 3.\n",
    "- Outcome: The program offers the user a simple interface to either convert height or calculate BMI, and provides helpful output based on their input."
   ]
  },
  {
   "cell_type": "markdown",
   "id": "2f5dcdac-80ea-4a71-a9d3-c69d46ff7b00",
   "metadata": {},
   "source": [
    "#### main_menu() is called:\n",
    "- Problem Addressed: This initiates the program by calling the main_menu() function to start the interactive loop.\n",
    "- Code Explanation: When the program runs, it enters into the main menu loop where the user can make choices until they decide to exit.\n",
    "- Outcome: The program continues to prompt the user until they choose to exit, ensuring the functionality is continuous and responsive to user input."
   ]
  },
  {
   "cell_type": "code",
   "execution_count": 17,
   "id": "84816a50-8888-4452-bdf0-0d67fed86e4f",
   "metadata": {},
   "outputs": [
    {
     "name": "stdout",
     "output_type": "stream",
     "text": [
      "-----------Welcome to the BMI Calculator-----------\n",
      "1. Calculate Centimeters\n",
      "2. Calculate BMI\n",
      "3. Exit\n"
     ]
    },
    {
     "name": "stdin",
     "output_type": "stream",
     "text": [
      "Enter your Choice(1/2/3): 3\n"
     ]
    },
    {
     "name": "stdout",
     "output_type": "stream",
     "text": [
      "Thank You for Coding with us!!\n"
     ]
    }
   ],
   "source": [
    "main_menu()"
   ]
  },
  {
   "cell_type": "code",
   "execution_count": null,
   "id": "8ddef722-d625-4987-875b-62a0194553d3",
   "metadata": {},
   "outputs": [],
   "source": []
  }
 ],
 "metadata": {
  "kernelspec": {
   "display_name": "Python 3 (ipykernel)",
   "language": "python",
   "name": "python3"
  },
  "language_info": {
   "codemirror_mode": {
    "name": "ipython",
    "version": 3
   },
   "file_extension": ".py",
   "mimetype": "text/x-python",
   "name": "python",
   "nbconvert_exporter": "python",
   "pygments_lexer": "ipython3",
   "version": "3.13.1"
  }
 },
 "nbformat": 4,
 "nbformat_minor": 5
}
